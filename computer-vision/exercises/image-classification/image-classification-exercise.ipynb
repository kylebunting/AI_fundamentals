{
 "cells": [
  {
   "cell_type": "markdown",
   "metadata": {},
   "source": [
    "# Lesson 3 Exercise: Create An Image Classification Solution\n",
    "\n",
    "Add a brief description of the work being done below..."
   ]
  },
  {
   "cell_type": "markdown",
   "metadata": {},
   "source": [
    "## Setup the notebook\n",
    "\n",
    "To access the Custom Vision service from this Python notebook, you need to install the Azure Cognitive Services Custom Vision Library. This library is part of the [Azure SDK for Python](https://github.com/Azure/azure-sdk-for-python) GitHub project.\n",
    "\n",
    "> To learn more, read the [Azure Cognitive Services modules for Python](https://docs.microsoft.com/python/api/overview/azure/cognitive-services?view=azure-python) article in Microsoft Docs.\n",
    "\n",
    "Execute the cell below to install the library."
   ]
  },
  {
   "cell_type": "code",
   "execution_count": null,
   "metadata": {},
   "outputs": [],
   "source": [
    "pip install azure-cognitiveservices-vision-customvision"
   ]
  },
  {
   "cell_type": "markdown",
   "metadata": {},
   "source": [
    "Run the following cell to import the libraries and services required to execute the cells below."
   ]
  },
  {
   "cell_type": "code",
   "execution_count": null,
   "metadata": {},
   "outputs": [],
   "source": [
    "# Import the libraries need to call the classification service\n",
    "from azure.cognitiveservices.vision.customvision.prediction import CustomVisionPredictionClient\n",
    "from msrest.authentication import ApiKeyCredentials\n",
    "import matplotlib.pyplot as plt\n",
    "from PIL import Image\n",
    "import os"
   ]
  },
  {
   "cell_type": "markdown",
   "metadata": {},
   "source": [
    "## Set variables\n",
    "\n",
    "To access your Custom Vision service, its `Project Id`, authentication `key` and `endpoint` URL need to be supplied to client applications.\n",
    "\n",
    "Use the `Project Id` value found on the **Project Settings** page of the `Pet Classification` project in the Custom Vision portal to replace the tokenized value for the `projectId` variable.\n",
    "\n",
    "- Retrieve the `Project Id` value  to replace the tokenized value for the `projectId` variable below.\n",
    "\n",
    "Using the values from the `Keys and Endpoints` page for you Computer Vision service, replace the tokenized values in the cell below, as follows:\n",
    "\n",
    "- Retrieve the `Key 1` value for your prediction cognitive services resource in the Azure portal and update the `key` value below.\n",
    "- Retrieve the `Endpoint` value for your prediction cognitive services resource in the Azure portal and update the `endpoint` value below."
   ]
  },
  {
   "cell_type": "code",
   "execution_count": null,
   "metadata": {},
   "outputs": [],
   "source": [
    "projectId = 'YOUR_PROJECT_ID'\n",
    "key = 'YOUR_PREDICTION_SERVICE_KEY'\n",
    "endpoint = 'YOUR_PREDICTION_SERVICE_ENDPOINT'\n",
    "\n",
    "# The modelName variable's value must match the model name you set when you published the model!\n",
    "modelName = 'pet-classifier'\n",
    "print('Ready to classify images using the model named \"{}\" from Custom Vision Project Id {}.'.format(modelName, projectId))"
   ]
  },
  {
   "cell_type": "markdown",
   "metadata": {},
   "source": [
    "## Create a Custom Vision Prediction client\n",
    "\n",
    "After setting the `projectId`, `key` and `endpoint` needed to access your Custom Vision Prediction service, you can instantiate a client.\n",
    "\n",
    "Execute the cell below to create a `CustomVisionPredictionClient` object."
   ]
  },
  {
   "cell_type": "code",
   "execution_count": null,
   "metadata": {},
   "outputs": [],
   "source": [
    "# Instantiate a Custom Vision Prediction client\n",
    "credentials = ApiKeyCredentials(in_headers={\"Prediction-key\": key})\n",
    "client = CustomVisionPredictionClient(endpoint=endpoint, credentials=credentials)"
   ]
  },
  {
   "cell_type": "markdown",
   "metadata": {},
   "source": [
    "## Use your deployed classification model\n",
    "\n",
    "The cell below uses a Custom Vision client to send images to your custom vision classification model and returns the predications made by the service."
   ]
  },
  {
   "cell_type": "code",
   "execution_count": null,
   "metadata": {},
   "outputs": [],
   "source": [
    "%matplotlib inline\n",
    "\n",
    "# Retrieve test images from the 'test-images' folder\n",
    "imageFolder = 'testing-images'\n",
    "testImages = os.listdir(imageFolder)\n",
    "\n",
    "# Create a matplotlib figure to display the classification results\n",
    "fig = plt.figure(figsize=(16, 8))\n",
    "\n",
    "# Retrieve each image and show its predicted classes above the image\n",
    "print('Classifying the {} images found in {}...'.format(len(testImages), imageFolder))\n",
    "for i in range(len(testImages)):\n",
    "    # Retrieve each image and send it to the deployed custom vision model for classification\n",
    "    image = open(os.path.join(imageFolder, testImages[i-1]), \"rb\")\n",
    "    classification = client.classify_image(projectId, modelName, image.read())\n",
    "    \n",
    "    # Retrieve the first result (higest probability) from the returned prediction\n",
    "    prediction = classification.predictions[0].tag_name\n",
    "    \n",
    "    # Display the image with its predicted class above it\n",
    "    img = Image.open(os.path.join(imageFolder, testImages[i-1]))\n",
    "    a=fig.add_subplot(len(testImages)/3, 4, i+1)\n",
    "    a.axis('off')\n",
    "    imgplot = plt.imshow(img)\n",
    "    a.set_title(prediction)\n",
    "\n",
    "plt.show()"
   ]
  },
  {
   "cell_type": "code",
   "execution_count": null,
   "metadata": {},
   "outputs": [],
   "source": []
  }
 ],
 "metadata": {
  "kernelspec": {
   "display_name": "Python 3",
   "language": "python",
   "name": "python3"
  },
  "language_info": {
   "codemirror_mode": {
    "name": "ipython",
    "version": 3
   },
   "file_extension": ".py",
   "mimetype": "text/x-python",
   "name": "python",
   "nbconvert_exporter": "python",
   "pygments_lexer": "ipython3",
   "version": "3.6.9"
  }
 },
 "nbformat": 4,
 "nbformat_minor": 2
}
